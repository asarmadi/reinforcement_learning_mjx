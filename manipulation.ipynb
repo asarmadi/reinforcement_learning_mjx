{
 "cells": [
  {
   "cell_type": "code",
   "execution_count": 1,
   "metadata": {},
   "outputs": [],
   "source": [
    "from datetime import datetime\n",
    "import functools\n",
    "\n",
    "from brax.training.agents.ppo import networks_vision as ppo_networks_vision\n",
    "from brax.training.agents.ppo import train as ppo\n",
    "from flax import linen\n",
    "from IPython.display import clear_output\n",
    "import jax\n",
    "from jax import numpy as jp\n",
    "from matplotlib import pyplot as plt\n",
    "import mediapy as media\n",
    "import numpy as np\n",
    "\n",
    "np.set_printoptions(precision=3, suppress=True, linewidth=100)\n",
    "\n",
    "from mujoco_playground import manipulation\n",
    "from mujoco_playground import wrapper\n",
    "from mujoco_playground._src.manipulation.franka_emika_panda import randomize_vision as randomize\n",
    "from mujoco_playground.config import manipulation_params\n",
    "\n"
   ]
  },
  {
   "cell_type": "code",
   "execution_count": 2,
   "metadata": {},
   "outputs": [
    {
     "ename": "",
     "evalue": "",
     "output_type": "error",
     "traceback": [
      "\u001b[1;31mThe Kernel crashed while executing code in the current cell or a previous cell. \n",
      "\u001b[1;31mPlease review the code in the cell(s) to identify a possible cause of the failure. \n",
      "\u001b[1;31mClick <a href='https://aka.ms/vscodeJupyterKernelCrash'>here</a> for more info. \n",
      "\u001b[1;31mView Jupyter <a href='command:jupyter.viewOutput'>log</a> for further details."
     ]
    }
   ],
   "source": [
    "env_name = \"PandaPickCubeCartesian\"\n",
    "env_cfg = manipulation.get_default_config(env_name)\n",
    "\n",
    "env_cfg.vision = False\n",
    "num_envs = 1024\n",
    "episode_length = int(4 / env_cfg.ctrl_dt)\n",
    "\n",
    "# Rasterizer is less feature-complete than ray-tracing backend but stable\n",
    "config_overrides = {\n",
    "    \"episode_length\": episode_length,\n",
    "    \"vision\": False,\n",
    "    \"obs_noise.brightness\": [0.75, 2.0],\n",
    "    \"vision_config.use_rasterizer\": False,\n",
    "    \"vision_config.render_batch_size\": num_envs,\n",
    "    \"vision_config.render_width\": 64,\n",
    "    \"vision_config.render_height\": 64,\n",
    "    \"box_init_range\": 0.1, # +- 10 cm\n",
    "    \"action_history_length\": 5,\n",
    "    \"success_threshold\": 0.03\n",
    "}\n",
    "\n",
    "env = manipulation.load(env_name, config=env_cfg, \n",
    "                        config_overrides=config_overrides\n",
    ")\n",
    "randomization_fn = functools.partial(randomize.domain_randomize,\n",
    "                                        num_worlds=num_envs\n",
    ")\n",
    "env = wrapper.wrap_for_brax_training(\n",
    "    env,\n",
    "    vision=False,\n",
    "    num_vision_envs=num_envs,\n",
    "    episode_length=episode_length,\n",
    "    action_repeat=1,\n",
    "    randomization_fn=randomization_fn\n",
    ")"
   ]
  },
  {
   "cell_type": "code",
   "execution_count": null,
   "metadata": {},
   "outputs": [],
   "source": [
    "jit_reset = jax.jit(env.reset)\n",
    "jit_step = jax.jit(env.step)\n",
    "\n",
    "def tile(img, d):\n",
    "    assert img.shape[0] == d*d\n",
    "    img = img.reshape((d,d)+img.shape[1:])\n",
    "    return np.concat(np.concat(img, axis=1), axis=1)\n",
    "\n",
    "def unvmap(x):\n",
    "    return jax.tree.map(lambda y: y[0], x)"
   ]
  },
  {
   "cell_type": "code",
   "execution_count": null,
   "metadata": {},
   "outputs": [],
   "source": [
    "state = jit_reset(jax.random.split(jax.random.PRNGKey(0), num_envs))\n",
    "media.show_image(tile(state.obs['pixels/view_0'][:64], 8), width=512)"
   ]
  },
  {
   "cell_type": "code",
   "execution_count": null,
   "metadata": {},
   "outputs": [],
   "source": [
    "state = jit_reset(jax.random.split(jax.random.PRNGKey(0), num_envs))\n",
    "rollout = [unvmap(state)]\n",
    "\n",
    "f = 0.2\n",
    "for i in range(env_cfg.episode_length):\n",
    "  action = []\n",
    "  for j in range(env.action_size):\n",
    "    action.append(\n",
    "        jp.sin(\n",
    "            unvmap(state.data.time) * 2 * jp.pi * f + j * 2 * jp.pi / env.action_size\n",
    "        )\n",
    "    )\n",
    "  action = jp.tile(jp.array(action), (num_envs, 1))\n",
    "  state = jit_step(state, action)\n",
    "  rollout.append(unvmap(state))\n",
    "\n",
    "frames = env.render(rollout)\n",
    "media.show_video(frames, fps=1.0 / env.dt)"
   ]
  },
  {
   "cell_type": "code",
   "execution_count": null,
   "metadata": {},
   "outputs": [],
   "source": [
    "network_factory = functools.partial(\n",
    "    ppo_networks_vision.make_ppo_networks_vision,\n",
    "    policy_hidden_layer_sizes=[256, 256],\n",
    "    value_hidden_layer_sizes= [256, 256],\n",
    "    activation=linen.relu,\n",
    "    normalise_channels=True\n",
    ")\n",
    "\n",
    "ppo_params = manipulation_params.brax_vision_ppo_config(env_name)\n",
    "ppo_params.num_timesteps = 7_000_000\n",
    "ppo_params.num_envs = num_envs\n",
    "ppo_params.num_eval_envs = num_envs\n",
    "del ppo_params.network_factory\n",
    "ppo_params.network_factory = network_factory"
   ]
  },
  {
   "cell_type": "code",
   "execution_count": null,
   "metadata": {},
   "outputs": [],
   "source": [
    "x_data, y_data, y_dataerr = [], [], []\n",
    "times = [datetime.now()]\n",
    "\n",
    "\n",
    "def progress(num_steps, metrics):\n",
    "  clear_output(wait=True)\n",
    "\n",
    "  times.append(datetime.now())\n",
    "  x_data.append(num_steps)\n",
    "  y_data.append(metrics[\"eval/episode_reward\"])\n",
    "  y_dataerr.append(metrics[\"eval/episode_reward_std\"])\n",
    "\n",
    "  steps = ppo_params[\"num_timesteps\"]\n",
    "  plt.xlim([steps * -0.1, steps * 1.25])\n",
    "  plt.ylim([0, 14])\n",
    "  plt.xlabel(\"# environment steps\")\n",
    "  plt.ylabel(\"reward per episode\")\n",
    "  plt.title(f\"y={y_data[-1]:.3f}\")\n",
    "  plt.errorbar(x_data, y_data, yerr=y_dataerr, color=\"blue\")\n",
    "\n",
    "  display(plt.gcf())\n",
    "\n",
    "\n",
    "train_fn = functools.partial(\n",
    "    ppo.train,\n",
    "    augment_pixels=True,\n",
    "    **dict(ppo_params),\n",
    "    progress_fn=progress\n",
    ")\n",
    "\n",
    "make_inference_fn, params, metrics = train_fn(environment=env)\n",
    "print(f\"time to jit: {times[1] - times[0]}\")\n",
    "print(f\"time to train: {times[-1] - times[1]}\")"
   ]
  },
  {
   "cell_type": "code",
   "execution_count": null,
   "metadata": {},
   "outputs": [],
   "source": [
    "jit_reset = jax.jit(env.reset)\n",
    "jit_step = jax.jit(env.step)\n",
    "jit_inference_fn = jax.jit(make_inference_fn(params, deterministic=True))\n",
    "\n",
    "rng = jax.random.PRNGKey(0)\n",
    "rollout = []\n",
    "n_episodes = 1\n",
    "to_keep = 256\n",
    "\n",
    "def keep_until(state, i):\n",
    "    return jax.tree.map(lambda x: x[:i], state)\n",
    "\n",
    "for _ in range(n_episodes):\n",
    "    key_rng = jax.random.split(rng, num_envs)\n",
    "    state = jit_reset(key_rng)\n",
    "    rollout.append(keep_until(state, to_keep))\n",
    "    for i in range(env_cfg.episode_length):\n",
    "        act_rng, rng = jax.random.split(rng)\n",
    "        act_rng = jax.random.split(act_rng, num_envs)\n",
    "        ctrl, _ = jit_inference_fn(state.obs, act_rng)\n",
    "        state = jit_step(state, ctrl)\n",
    "        rollout.append(keep_until(state, to_keep))\n",
    "\n",
    "render_every = 1\n",
    "frames = env.render([unvmap(s) for s in rollout][::render_every])\n",
    "rewards = [unvmap(s).reward for s in rollout]\n",
    "media.show_video(frames, fps=1.0 / env.dt / render_every)\n",
    "plt.figure(figsize=(3, 2))\n",
    "plt.plot(rewards)\n",
    "plt.xlabel(\"time step\")\n",
    "plt.ylabel(\"reward\")\n",
    "plt.show()"
   ]
  },
  {
   "cell_type": "code",
   "execution_count": null,
   "metadata": {},
   "outputs": [],
   "source": [
    "obs = [np.array(s.obs['pixels/view_0']) for s in rollout]\n",
    "obs = [tile(img, int(np.sqrt(to_keep))) for img in obs]\n",
    "media.show_video(obs, fps=1.0/env_cfg.ctrl_dt, width=512)"
   ]
  }
 ],
 "metadata": {
  "kernelspec": {
   "display_name": "env",
   "language": "python",
   "name": "python3"
  },
  "language_info": {
   "codemirror_mode": {
    "name": "ipython",
    "version": 3
   },
   "file_extension": ".py",
   "mimetype": "text/x-python",
   "name": "python",
   "nbconvert_exporter": "python",
   "pygments_lexer": "ipython3",
   "version": "3.12.3"
  }
 },
 "nbformat": 4,
 "nbformat_minor": 2
}
